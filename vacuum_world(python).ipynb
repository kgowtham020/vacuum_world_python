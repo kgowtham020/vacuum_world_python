{
  "cells": [
    {
      "cell_type": "markdown",
      "metadata": {
        "id": "view-in-github",
        "colab_type": "text"
      },
      "source": [
        "<a href=\"https://colab.research.google.com/github/kgowtham020/vacuum_world_python/blob/main/vacuum_world(python).ipynb\" target=\"_parent\"><img src=\"https://colab.research.google.com/assets/colab-badge.svg\" alt=\"Open In Colab\"/></a>"
      ]
    },
    {
      "cell_type": "code",
      "execution_count": 2,
      "metadata": {
        "id": "lIYdn1woOS1n",
        "colab": {
          "base_uri": "https://localhost:8080/"
        },
        "outputId": "58c19eaa-f757-4085-fa00-f0f18d264cc2"
      },
      "outputs": [
        {
          "output_type": "stream",
          "name": "stdout",
          "text": [
            "enter location of vacum1\n",
            "Enter status of 11\n",
            "Enter status of other room1\n",
            "intial location condition{'A': '0', 'B': '0'}\n",
            "location A is Dirty .\n",
            "cost for CLEANING A 1\n",
            "Location A has been Cleaned.\n",
            "Location B is dirty.\n",
            "moving right to the location B.\n",
            "COST for solving RIGHT2\n",
            "Location B has been Cleaned.\n",
            "location B is Dirty .\n",
            "cost for CLEANING B 3\n",
            "Location B has been Cleaned.\n",
            "Location A is dirty.\n",
            "moving right to the location A.\n",
            "Location B has been Cleaned.\n",
            "Location A is already clean.\n",
            "GOAL STATE:\n",
            "{'A': '0', 'B': '0'}\n",
            "performance Measurment:4\n"
          ]
        }
      ],
      "source": [
        "def vacum_world():\n",
        "    goal_state= {'A':'0','B':'0'}\n",
        "    cost=0\n",
        "    location_input= input(\"enter location of vacum\")\n",
        "    status_input= input(\"Enter status of \" + location_input)\n",
        "    status_input_complement= input(\"Enter status of other room\")\n",
        "    print(\"intial location condition\" +str(goal_state))\n",
        "\n",
        "    if location_input == 'A':\n",
        "        print(\"vacume is plced in location A\")\n",
        "    if status_input== \"1\":\n",
        "        print(\"location A is Dirty .\")\n",
        "        goal_state['A']='0'\n",
        "        cost += 1\n",
        "        print(\"cost for CLEANING A \" +str(cost))\n",
        "        print(\"Location A has been Cleaned.\")\n",
        "    if status_input_complement == '1':\n",
        "        print(\"Location B is dirty.\")\n",
        "        print(\"moving right to the location B.\")\n",
        "        cost +=1\n",
        "        print(\"COST for solving RIGHT\" + str(cost))\n",
        "        print(\"Location B has been Cleaned.\")\n",
        "    else:\n",
        "        print(\"No action \"+ str(cost))\n",
        "        print(\"cost of Location A+B +moving cost\")\n",
        "        if location_input == 'B':\n",
        "            print(\"vacume is plced in location B\")\n",
        "    if status_input== \"1\":\n",
        "        print(\"location B is Dirty .\")\n",
        "        goal_state['B']='0'\n",
        "        cost += 1\n",
        "        print(\"cost for CLEANING B \" +str(cost))\n",
        "        print(\"Location B has been Cleaned.\")\n",
        "    if status_input_complement == '1':\n",
        "        print(\"Location A is dirty.\")\n",
        "        print(\"moving right to the location A.\")\n",
        "        cost +=1\n",
        "        print(\"Location B has been Cleaned.\")\n",
        "    else:\n",
        "        print(\"No action \"+ str(cost))\n",
        "    print(\"Location A is already clean.\")\n",
        "    print(\"GOAL STATE:\")\n",
        "    print(goal_state)\n",
        "    print(\"performance Measurment:\"+ str(cost))\n",
        "\n",
        "vacum_world()\n",
        "\n",
        "\n",
        "\n"
      ]
    }
  ],
  "metadata": {
    "colab": {
      "provenance": [],
      "include_colab_link": true
    },
    "kernelspec": {
      "display_name": "Python 3",
      "name": "python3"
    }
  },
  "nbformat": 4,
  "nbformat_minor": 0
}